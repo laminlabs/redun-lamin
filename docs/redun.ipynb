{
 "cells": [
  {
   "cell_type": "markdown",
   "metadata": {},
   "source": [
    "[![Jupyter Notebook](https://img.shields.io/badge/Jupyter%20Notebook-orange)](https://github.com/laminlabs/redun-lamin-fasta/blob/main/docs/redun.ipynb)"
   ]
  },
  {
   "attachments": {},
   "cell_type": "markdown",
   "metadata": {},
   "source": [
    "# Redun"
   ]
  },
  {
   "attachments": {},
   "cell_type": "markdown",
   "metadata": {},
   "source": [
    "Here, we'll see how to track redun workflow runs with LaminDB."
   ]
  },
  {
   "attachments": {},
   "cell_type": "markdown",
   "metadata": {},
   "source": [
    "```{note}\n",
    "\n",
    "This use case is based on [github.com/ricomnl/bioinformatics-pipeline-tutorial](https://github.com/ricomnl/bioinformatics-pipeline-tutorial/tree/redun).\n",
    "\n",
    "```"
   ]
  },
  {
   "cell_type": "markdown",
   "metadata": {},
   "source": [
    "## Setup"
   ]
  },
  {
   "cell_type": "code",
   "execution_count": null,
   "metadata": {
    "tags": [
     "hide-output"
    ]
   },
   "outputs": [],
   "source": [
    "!lamin init --storage .  --name redun-lamin-fasta"
   ]
  },
  {
   "attachments": {},
   "cell_type": "markdown",
   "metadata": {},
   "source": [
    "## Register the workflow"
   ]
  },
  {
   "cell_type": "code",
   "execution_count": null,
   "metadata": {},
   "outputs": [],
   "source": [
    "import lamindb as ln\n",
    "import json"
   ]
  },
  {
   "cell_type": "markdown",
   "metadata": {},
   "source": [
    "How to amend a redun workflow.py to register input & output files in LaminDB?\n",
    "\n",
    "- To register the workflow in the `Transform` registry, we added [the following lines](https://github.com/laminlabs/redun-lamin-fasta/blob/main/docs/workflow.py#L43-L49):\n",
    "\n",
    "    ```python\n",
    "    # register the workflow in the `Transform` registry\n",
    "    transform = ln.Transform(\n",
    "        name=redun_lamin_fasta.__name__,\n",
    "        version=redun_lamin_fasta.__version__,\n",
    "        type=\"pipeline\",\n",
    "        reference=\"https://github.com/laminlabs/redun-lamin-fasta\",\n",
    "    ).save()\n",
    "    ```\n",
    "\n",
    "- To query input files via LaminDB, we added [the following lines](https://github.com/laminlabs/redun-lamin-fasta/blob/main/docs/workflow.py#L50-L57):\n",
    "\n",
    "    ```python\n",
    "    # query & track this pipeline\n",
    "    ln.track(transform=transform, params=params)\n",
    "    # register input files in lamindb\n",
    "    ln.save(ln.Artifact.from_dir(input_dir, run=False))\n",
    "    # query input files from lamindb\n",
    "    input_filepaths = [\n",
    "        artifact.cache() for artifact in ln.Artifact.filter(key__startswith=\"fasta/\")\n",
    "    ]\n",
    "    ```\n",
    "\n",
    "- To register the output file via LaminDB, we added [the following line](https://github.com/laminlabs/redun-lamin-fasta/blob/main/redun_lamin_fasta/lib.py#L315):\n",
    "\n",
    "    ```python\n",
    "    ln.Artifact(output_path, description=\"results\").save()\n",
    "    ```"
   ]
  },
  {
   "cell_type": "markdown",
   "metadata": {},
   "source": [
    "## Run redun"
   ]
  },
  {
   "attachments": {},
   "cell_type": "markdown",
   "metadata": {},
   "source": [
    "Let's see what the input files are:"
   ]
  },
  {
   "cell_type": "code",
   "execution_count": null,
   "metadata": {},
   "outputs": [],
   "source": [
    "!ls ./fasta"
   ]
  },
  {
   "cell_type": "markdown",
   "metadata": {},
   "source": [
    "And call the workflow:"
   ]
  },
  {
   "cell_type": "code",
   "execution_count": null,
   "metadata": {},
   "outputs": [],
   "source": [
    "!redun run workflow.py main --input-dir ./fasta --tag run=test-run  1> redun_stdout.txt 2>redun_stderr.txt"
   ]
  },
  {
   "cell_type": "markdown",
   "metadata": {},
   "source": [
    "Inspect the output:"
   ]
  },
  {
   "cell_type": "code",
   "execution_count": null,
   "metadata": {},
   "outputs": [],
   "source": [
    "!cat redun_stdout.txt"
   ]
  },
  {
   "cell_type": "markdown",
   "metadata": {},
   "source": [
    "And the error log:"
   ]
  },
  {
   "cell_type": "code",
   "execution_count": null,
   "metadata": {},
   "outputs": [],
   "source": [
    "!tail -1 redun_stderr.txt"
   ]
  },
  {
   "cell_type": "markdown",
   "metadata": {},
   "source": [
    "View data lineage:"
   ]
  },
  {
   "cell_type": "code",
   "execution_count": null,
   "metadata": {},
   "outputs": [],
   "source": [
    "artifact = ln.Artifact.filter(description=\"results\").one()  # query by description\n",
    "artifact.view_lineage()"
   ]
  },
  {
   "cell_type": "markdown",
   "metadata": {},
   "source": [
    "## Register the redun execution id"
   ]
  },
  {
   "cell_type": "markdown",
   "metadata": {},
   "source": [
    "If we want to be able to query LaminDB for redun execution ID, this here is a way to get it:"
   ]
  },
  {
   "cell_type": "code",
   "execution_count": null,
   "metadata": {},
   "outputs": [],
   "source": [
    "# export the run information from redun\n",
    "!redun log --exec --exec-tag run=test-run --format json --no-pager > redun_exec.json\n",
    "# load the redun execution id from the JSON and store it in the LaminDB run record\n",
    "with open(\"redun_exec.json\", \"r\") as file:\n",
    "    redun_exec = json.loads(file.readline())\n",
    "artifact.run.reference = redun_exec[\"id\"]\n",
    "artifact.run.reference_type = \"redun_id\"\n",
    "artifact.run.save()"
   ]
  },
  {
   "cell_type": "markdown",
   "metadata": {},
   "source": [
    "## Run report"
   ]
  },
  {
   "cell_type": "markdown",
   "metadata": {},
   "source": [
    "Attach a run report:"
   ]
  },
  {
   "cell_type": "code",
   "execution_count": null,
   "metadata": {},
   "outputs": [],
   "source": [
    "report = ln.Artifact(\n",
    "    \"redun_stderr.txt\",\n",
    "    description=f\"Redun run report of {redun_exec['id']}\",\n",
    "    run=False,\n",
    "    visibility=0,\n",
    ").save()\n",
    "artifact.run.report = report\n",
    "artifact.run.save()\n",
    "artifact.transform.latest_report\n",
    "artifact.transform.save()"
   ]
  },
  {
   "cell_type": "markdown",
   "metadata": {},
   "source": [
    "## View transforms and runs in LaminHub\n",
    "\n",
    "https://lamin.ai/laminlabs/lamindata/transform/taasWKawCiNABiXZ"
   ]
  },
  {
   "cell_type": "markdown",
   "metadata": {},
   "source": [
    "## View the database content"
   ]
  },
  {
   "cell_type": "code",
   "execution_count": null,
   "metadata": {},
   "outputs": [],
   "source": [
    "ln.view()"
   ]
  },
  {
   "cell_type": "markdown",
   "metadata": {},
   "source": [
    "Delete the test instance:"
   ]
  },
  {
   "cell_type": "code",
   "execution_count": null,
   "metadata": {},
   "outputs": [],
   "source": [
    "!lamin delete --force redun-lamin-fasta"
   ]
  }
 ],
 "metadata": {
  "kernelspec": {
   "display_name": "py39",
   "language": "python",
   "name": "python3"
  },
  "language_info": {
   "codemirror_mode": {
    "name": "ipython",
    "version": 3
   },
   "file_extension": ".py",
   "mimetype": "text/x-python",
   "name": "python",
   "nbconvert_exporter": "python",
   "pygments_lexer": "ipython3",
   "version": "3.10.13"
  },
  "nbproject": {
   "id": "0ymQDuqM5Lwq",
   "parent": null,
   "pypackage": {
    "lamindb": "0.10.0"
   },
   "time_init": "2022-11-13T21:29:56.220368+00:00",
   "user_handle": "testuser1",
   "user_id": "DzTjkKse",
   "user_name": "Test User1",
   "version": "0"
  },
  "vscode": {
   "interpreter": {
    "hash": "61b4062b24dfb1010f420dad5aa3bd73a4d2af47d0ec44eafec465a35a9d7239"
   }
  }
 },
 "nbformat": 4,
 "nbformat_minor": 4
}
