{
 "cells": [
  {
   "cell_type": "markdown",
   "metadata": {},
   "source": [
    "# Run the redun workflow"
   ]
  },
  {
   "cell_type": "code",
   "execution_count": null,
   "metadata": {},
   "outputs": [],
   "source": [
    "import lamindb as ln\n",
    "import lamindb.schema as lns\n",
    "\n",
    "ln.nb.header()"
   ]
  },
  {
   "cell_type": "markdown",
   "metadata": {},
   "source": [
    "Before running the workflow on the input files, let us check that we can query for them."
   ]
  },
  {
   "cell_type": "code",
   "execution_count": null,
   "metadata": {},
   "outputs": [],
   "source": [
    "ln.select(lns.DObject).join(lns.Run).join(lns.Jupynb, id=\"0ymQDuqM5Lwq\").df()"
   ]
  },
  {
   "cell_type": "markdown",
   "metadata": {},
   "source": [
    "We add the following code block at the end of the workflow:\n",
    "```\n",
    "import lndb_setup\n",
    "import lamindb as ln\n",
    "import lamindb.schema as lns\n",
    "from lamin_logger import logger\n",
    "from pathlib import Path\n",
    "lndb_setup.load(\"redun-lamin-fasta\")  # load the LaminDB instance we'd like to use\n",
    "pipeline = ln.select(lns.Pipeline, name=\"lamin-redun-fasta\").one()    \n",
    "run = lns.Run(\n",
    "    name=\"Test run\", pipeline_id=pipeline.id, pipeline_v=pipeline.v\n",
    ")\n",
    "logger.info(f\"Loaded pipeline {pipeline}\")\n",
    "logger.info(f\"Created run {run}\")\n",
    "# Ingest pipeline outputs\n",
    "ingest = ln.Ingest(run)\n",
    "for filepath in Path(\"./data/\").glob(\"results.tgz\"):  # User needs to decide what to track, here just results.tgz  # noqa\n",
    "    ingest.add(filepath)\n",
    "ingest.commit()\n",
    "# Link pipeline inputs\n",
    "inputs = ln.select(lns.DObject).join(lns.Run).join(lns.Jupynb, id=\"0ymQDuqM5Lwq\").all()\n",
    "links = [lns.RunIn(dobject_id=dobject.id, run_id=run.id) for dobject in inputs]\n",
    "ln.add(links)\n",
    "```"
   ]
  },
  {
   "cell_type": "markdown",
   "metadata": {},
   "source": [
    "Let us now call the workflow:"
   ]
  },
  {
   "cell_type": "code",
   "execution_count": null,
   "metadata": {},
   "outputs": [],
   "source": [
    "!redun run workflow.py main --input-dir fasta/"
   ]
  },
  {
   "cell_type": "markdown",
   "metadata": {},
   "source": [
    "## View the LaminDB content"
   ]
  },
  {
   "cell_type": "code",
   "execution_count": null,
   "metadata": {},
   "outputs": [],
   "source": [
    "ln.view()"
   ]
  }
 ],
 "metadata": {
  "kernelspec": {
   "display_name": "Python 3.9.12 ('base1')",
   "language": "python",
   "name": "python3"
  },
  "language_info": {
   "name": "python",
   "version": "3.9.12"
  },
  "nbproject": {
   "id": "CKhlMCFA52oD",
   "parent": null,
   "pypackage": null,
   "time_init": "2022-11-13T21:36:15.148456+00:00",
   "user_handle": "testuser1",
   "user_id": "DzTjkKse",
   "user_name": "Test User1",
   "version": "0"
  },
  "vscode": {
   "interpreter": {
    "hash": "2775e555cdc2d728c54aa22130c79afb1fa4da64f22f2fc6dcc2aa346c4e0672"
   }
  }
 },
 "nbformat": 4,
 "nbformat_minor": 2
}
