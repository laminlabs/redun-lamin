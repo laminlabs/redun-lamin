{
 "cells": [
  {
   "cell_type": "markdown",
   "metadata": {},
   "source": [
    "# Integrate redun & LaminDB for processing fasta files"
   ]
  },
  {
   "cell_type": "markdown",
   "metadata": {},
   "source": [
    "This use-case example starts out with Rico Meinl's [GitHub repository](https://github.com/ricomnl/bioinformatics-pipeline-tutorial/tree/redun), which accompanies his [blog post](https://ricomnl.com/blog/bottom-up-bioinformatics-pipeline-extension-redun/).\n",
    "\n",
    "It demonstrates how to use Lamin with the workflow management tool [redun](https://github.com/insitro/redun)."
   ]
  },
  {
   "cell_type": "markdown",
   "metadata": {},
   "source": [
    "## Motivation\n",
    "\n",
    "While redun focuses on managing worfklows for running data pipelines, LaminDB takes a bird's eye view on R&D data.\n",
    "\n",
    "redun offers features for scheduling, executing, and data lineage tracking for computational pipelines.\n",
    "\n",
    "LaminDB, in comparison, tracks data lineage across computational pipelines, interactive analysis (notebooks), and UI-submitted data.\n",
    "\n",
    "In addition, LaminDB offers features for querying R&D data for biological entities.\n",
    "\n",
    "Here, we demonstrate integrating the fine-grained data lineage tracking of redun with LaminDB's overarching tracking."
   ]
  },
  {
   "cell_type": "markdown",
   "metadata": {},
   "source": [
    "## Setting up an instance"
   ]
  },
  {
   "cell_type": "code",
   "execution_count": null,
   "metadata": {},
   "outputs": [],
   "source": [
    "!lndb login testuser1@lamin.ai --password cEvcwMJFX4OwbsYVaMt2Os6GxxGgDUlBGILs2RyS"
   ]
  },
  {
   "cell_type": "code",
   "execution_count": null,
   "metadata": {},
   "outputs": [],
   "source": [
    "!lndb init --storage ./fasta"
   ]
  },
  {
   "cell_type": "markdown",
   "metadata": {},
   "source": [
    "## Track the workflow as a pipeline"
   ]
  },
  {
   "cell_type": "code",
   "execution_count": null,
   "metadata": {},
   "outputs": [],
   "source": [
    "import lamindb as ln\n",
    "import lamindb.schema as lns\n",
    "from pathlib import Path\n",
    "import redun_lamin_fasta"
   ]
  },
  {
   "cell_type": "code",
   "execution_count": null,
   "metadata": {},
   "outputs": [],
   "source": [
    "ln.nb.header()"
   ]
  },
  {
   "cell_type": "markdown",
   "metadata": {},
   "source": [
    "Create a pipeline record:"
   ]
  },
  {
   "cell_type": "code",
   "execution_count": null,
   "metadata": {},
   "outputs": [],
   "source": [
    "pipeline = lns.Pipeline(\n",
    "    name=\"lamin-redun-fasta\",\n",
    "    v=redun_lamin_fasta.__version__,\n",
    "    reference=\"https://github.com/laminlabs/redun-lamin-fasta\",\n",
    ")"
   ]
  },
  {
   "cell_type": "markdown",
   "metadata": {},
   "source": [
    "Add the record to the db."
   ]
  },
  {
   "cell_type": "code",
   "execution_count": null,
   "metadata": {},
   "outputs": [],
   "source": [
    "ln.add(pipeline)"
   ]
  },
  {
   "cell_type": "markdown",
   "metadata": {},
   "source": [
    "## Track the input files"
   ]
  },
  {
   "cell_type": "markdown",
   "metadata": {},
   "source": [
    "Here, we emulate a source location for the input files. They'll be linked against the present notebook."
   ]
  },
  {
   "cell_type": "code",
   "execution_count": null,
   "metadata": {},
   "outputs": [],
   "source": [
    "for filepath in Path(\"./fasta/\").glob(\"*.fasta\"):\n",
    "    filepath = ln.DObject(filepath)\n",
    "    ln.add(filepath)"
   ]
  }
 ],
 "metadata": {
  "kernelspec": {
   "display_name": "Python 3 (ipykernel)",
   "language": "python",
   "name": "python3"
  },
  "language_info": {
   "codemirror_mode": {
    "name": "ipython",
    "version": 3
   },
   "file_extension": ".py",
   "mimetype": "text/x-python",
   "name": "python",
   "nbconvert_exporter": "python",
   "pygments_lexer": "ipython3",
   "version": "3.9.12"
  },
  "nbproject": {
   "id": "0ymQDuqM5Lwq",
   "parent": null,
   "pypackage": {
    "lamindb": "0.10.0"
   },
   "time_init": "2022-11-13T21:29:56.220368+00:00",
   "user_handle": "testuser1",
   "user_id": "DzTjkKse",
   "user_name": "Test User1",
   "version": "0"
  },
  "vscode": {
   "interpreter": {
    "hash": "2775e555cdc2d728c54aa22130c79afb1fa4da64f22f2fc6dcc2aa346c4e0672"
   }
  }
 },
 "nbformat": 4,
 "nbformat_minor": 4
}
