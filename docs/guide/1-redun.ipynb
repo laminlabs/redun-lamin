{
 "cells": [
  {
   "attachments": {},
   "cell_type": "markdown",
   "metadata": {},
   "source": [
    "# Track redun workflows"
   ]
  },
  {
   "attachments": {},
   "cell_type": "markdown",
   "metadata": {},
   "source": [
    "```{note}\n",
    "\n",
    "This use case starts out with Rico Meinl's [GitHub repository](https://github.com/ricomnl/bioinformatics-pipeline-tutorial/tree/redun) (and [blog post](https://ricomnl.com/blog/bottom-up-bioinformatics-pipeline-extension-redun/)).\n",
    "\n",
    "```\n",
    "\n",
    "```{tip}\n",
    "\n",
    "Source notebooks are in the [redun-lamin-fasta](https://github.com/laminlabs/redun-lamin-fasta) repository.\n",
    "\n",
    "```"
   ]
  },
  {
   "attachments": {},
   "cell_type": "markdown",
   "metadata": {},
   "source": [
    "redun schedules, executes, and tracks pipeline runs with a great level of control and metadata.\n",
    "\n",
    "LaminDB's complements redun with\n",
    "\n",
    "1. data lineage _across_ pipelines, notebooks & app uploads\n",
    "2. modeling data using biological entities\n",
    "\n",
    "Here, we'll see how to track redun workflow runs with LaminDB."
   ]
  },
  {
   "cell_type": "code",
   "execution_count": null,
   "metadata": {},
   "outputs": [],
   "source": [
    "!lamin login testuser1"
   ]
  },
  {
   "cell_type": "code",
   "execution_count": null,
   "metadata": {},
   "outputs": [],
   "source": [
    "!lamin init --storage .  --name redun-lamin-fasta"
   ]
  },
  {
   "attachments": {},
   "cell_type": "markdown",
   "metadata": {},
   "source": [
    "## Track the workflow as a pipeline"
   ]
  },
  {
   "cell_type": "code",
   "execution_count": null,
   "metadata": {},
   "outputs": [],
   "source": [
    "import lamindb as ln\n",
    "import json"
   ]
  },
  {
   "attachments": {},
   "cell_type": "markdown",
   "metadata": {},
   "source": [
    "Track the workflow in the `Transform` registry:"
   ]
  },
  {
   "cell_type": "code",
   "execution_count": null,
   "metadata": {},
   "outputs": [],
   "source": [
    "ln.Transform(\n",
    "    name=\"lamin-redun-fasta\",\n",
    "    type=\"pipeline\",\n",
    "    version=\"0.1.0\",\n",
    "    reference=\"https://github.com/laminlabs/redun-lamin-fasta\",\n",
    ").save()"
   ]
  },
  {
   "cell_type": "markdown",
   "metadata": {},
   "source": [
    "## Amend the original redun workflow"
   ]
  },
  {
   "cell_type": "markdown",
   "metadata": {},
   "source": [
    "To also track the input files that the redun workflow uses, we added the following lines to [workflow.py](https://github.com/laminlabs/redun-lamin-fasta/blob/main/docs/guide/workflow.py):\n",
    "\n",
    "```python\n",
    "# register input files in lamindb\n",
    "ln.save(ln.File.from_dir(input_dir))\n",
    "# query & track this pipeline\n",
    "transform = ln.Transform.filter(name=\"lamin-redun-fasta\", version=\"0.1.0\").one()\n",
    "ln.track(transform)\n",
    "# query input files\n",
    "input_fastas = [\n",
    "    File(str(file.stage())) for file in ln.File.filter(key__startswith=\"fasta/\")\n",
    "]\n",
    "```"
   ]
  },
  {
   "cell_type": "markdown",
   "metadata": {},
   "source": [
    "## Run redun"
   ]
  },
  {
   "attachments": {},
   "cell_type": "markdown",
   "metadata": {},
   "source": [
    "Let's see what the input files are:"
   ]
  },
  {
   "cell_type": "code",
   "execution_count": null,
   "metadata": {},
   "outputs": [],
   "source": [
    "!ls ./fasta"
   ]
  },
  {
   "cell_type": "markdown",
   "metadata": {},
   "source": [
    "And call the workflow:"
   ]
  },
  {
   "cell_type": "code",
   "execution_count": null,
   "metadata": {},
   "outputs": [],
   "source": [
    "!redun run workflow.py main --input-dir ./fasta --tag run=test-run  1> redun_stdout.txt 2>redun_stderr.txt"
   ]
  },
  {
   "cell_type": "markdown",
   "metadata": {},
   "source": [
    "Inspect the output:"
   ]
  },
  {
   "cell_type": "code",
   "execution_count": null,
   "metadata": {},
   "outputs": [],
   "source": [
    "!cat redun_stdout.txt"
   ]
  },
  {
   "cell_type": "markdown",
   "metadata": {},
   "source": [
    "And the error log:"
   ]
  },
  {
   "cell_type": "code",
   "execution_count": null,
   "metadata": {},
   "outputs": [],
   "source": [
    "!tail -1 redun_stderr.txt"
   ]
  },
  {
   "cell_type": "markdown",
   "metadata": {},
   "source": [
    "## Register the output file"
   ]
  },
  {
   "cell_type": "markdown",
   "metadata": {},
   "source": [
    "There is just a single output file:"
   ]
  },
  {
   "cell_type": "code",
   "execution_count": null,
   "metadata": {},
   "outputs": [],
   "source": [
    "# query the latest lamindb run\n",
    "run = ln.Run.filter().order_by(\"-run_at\").first()\n",
    "# register\n",
    "file = ln.File(data=\"data/results.tgz\", run=run)\n",
    "file.save()"
   ]
  },
  {
   "cell_type": "markdown",
   "metadata": {},
   "source": [
    "View data lineage:"
   ]
  },
  {
   "cell_type": "code",
   "execution_count": null,
   "metadata": {},
   "outputs": [],
   "source": [
    "file.view_lineage()"
   ]
  },
  {
   "cell_type": "markdown",
   "metadata": {},
   "source": [
    "## Register the redun execution id"
   ]
  },
  {
   "cell_type": "markdown",
   "metadata": {},
   "source": [
    "If we want to be able to query LaminDB for redun execution ID, this here is a way to get it:"
   ]
  },
  {
   "cell_type": "code",
   "execution_count": null,
   "metadata": {},
   "outputs": [],
   "source": [
    "# export the run information from redun\n",
    "!redun log --exec --exec-tag run=test-run --format json --no-pager > redun_exec.json\n",
    "# load the redun execution id from the JSON and store it in the LaminDB run record\n",
    "redun_exec = json.load(open(\"redun_exec.json\"))\n",
    "run.reference = redun_exec[\"id\"]\n",
    "run.reference_type = \"redun_id\"\n",
    "run.save()"
   ]
  },
  {
   "cell_type": "markdown",
   "metadata": {},
   "source": [
    "## View the database content"
   ]
  },
  {
   "cell_type": "code",
   "execution_count": null,
   "metadata": {},
   "outputs": [],
   "source": [
    "ln.view()"
   ]
  },
  {
   "cell_type": "code",
   "execution_count": null,
   "metadata": {},
   "outputs": [],
   "source": [
    "!lamin delete redun-lamin-fasta"
   ]
  }
 ],
 "metadata": {
  "kernelspec": {
   "display_name": "py39",
   "language": "python",
   "name": "python3"
  },
  "language_info": {
   "codemirror_mode": {
    "name": "ipython",
    "version": 3
   },
   "file_extension": ".py",
   "mimetype": "text/x-python",
   "name": "python",
   "nbconvert_exporter": "python",
   "pygments_lexer": "ipython3",
   "version": "3.9.16"
  },
  "nbproject": {
   "id": "0ymQDuqM5Lwq",
   "parent": null,
   "pypackage": {
    "lamindb": "0.10.0"
   },
   "time_init": "2022-11-13T21:29:56.220368+00:00",
   "user_handle": "testuser1",
   "user_id": "DzTjkKse",
   "user_name": "Test User1",
   "version": "0"
  },
  "vscode": {
   "interpreter": {
    "hash": "61b4062b24dfb1010f420dad5aa3bd73a4d2af47d0ec44eafec465a35a9d7239"
   }
  }
 },
 "nbformat": 4,
 "nbformat_minor": 4
}
