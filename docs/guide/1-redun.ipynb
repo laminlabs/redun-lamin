{
 "cells": [
  {
   "attachments": {},
   "cell_type": "markdown",
   "metadata": {},
   "source": [
    "# Track redun workflows"
   ]
  },
  {
   "attachments": {},
   "cell_type": "markdown",
   "metadata": {},
   "source": [
    "```{note}\n",
    "\n",
    "This use case starts out with Rico Meinl's [GitHub repository](https://github.com/ricomnl/bioinformatics-pipeline-tutorial/tree/redun) (and [blog post](https://ricomnl.com/blog/bottom-up-bioinformatics-pipeline-extension-redun/)).\n",
    "\n",
    "```\n",
    "\n",
    "```{tip}\n",
    "\n",
    "Source notebooks are in the [redun-lamin-fasta](https://github.com/laminlabs/redun-lamin-fasta) repository.\n",
    "\n",
    "```\n",
    "\n",
    "```{toctree}\n",
    ":maxdepth: 1\n",
    ":hidden:\n",
    "\n",
    "redun-run\n",
    "```"
   ]
  },
  {
   "attachments": {},
   "cell_type": "markdown",
   "metadata": {},
   "source": [
    "While redun focuses on managing worfklows for data pipelines, LaminDB offers a provenance-aware data lake.\n",
    "\n",
    "redun schedules, executes, and tracks pipelines runs with a great level of control and metadata.\n",
    "\n",
    "LaminDB's data lake complements redun with\n",
    "\n",
    "1. data lineage _across_ computational pipelines, interactive analyses (notebooks), and UI-submitted data\n",
    "2. curating, querying & structuring data by biological entities\n",
    "3. extensible & modular Python ORM for queries & data access"
   ]
  },
  {
   "cell_type": "code",
   "execution_count": null,
   "metadata": {},
   "outputs": [],
   "source": [
    "!lamin login testuser1"
   ]
  },
  {
   "cell_type": "code",
   "execution_count": null,
   "metadata": {},
   "outputs": [],
   "source": [
    "!lamin init --storage .  --name redun-lamin-fasta"
   ]
  },
  {
   "attachments": {},
   "cell_type": "markdown",
   "metadata": {},
   "source": [
    "## Track the workflow as a pipeline"
   ]
  },
  {
   "cell_type": "code",
   "execution_count": null,
   "metadata": {},
   "outputs": [],
   "source": [
    "import lamindb as ln\n",
    "import json"
   ]
  },
  {
   "attachments": {},
   "cell_type": "markdown",
   "metadata": {},
   "source": [
    "Track the workflow in the `Transform` registry:"
   ]
  },
  {
   "cell_type": "code",
   "execution_count": null,
   "metadata": {},
   "outputs": [],
   "source": [
    "ln.Transform(\n",
    "    name=\"lamin-redun-fasta\",\n",
    "    type=\"pipeline\",\n",
    "    version=\"0.1.0\",\n",
    "    reference=\"https://github.com/laminlabs/redun-lamin-fasta\",\n",
    ").save()"
   ]
  },
  {
   "cell_type": "markdown",
   "metadata": {},
   "source": [
    "## Amend the original redun workflow"
   ]
  },
  {
   "cell_type": "markdown",
   "metadata": {},
   "source": [
    "To also track the input files that the redun workflow uses, we added the following lines to [workflow.py](https://github.com/laminlabs/redun-lamin-fasta/blob/main/docs/guide/workflow.py):\n",
    "\n",
    "```python\n",
    "    # register input files in lamindb\n",
    "    ln.save(ln.File.from_dir(input_dir))\n",
    "    # query & track this pipeline\n",
    "    transform = ln.Transform.filter(name=\"lamin-redun-fasta\", version=\"0.1.0\").one()\n",
    "    ln.track(transform)\n",
    "    # query input files\n",
    "    input_fastas = [\n",
    "        File(str(file.stage())) for file in ln.File.filter(key__startswith=\"fasta/\")\n",
    "    ]\n",
    "```"
   ]
  },
  {
   "cell_type": "markdown",
   "metadata": {},
   "source": [
    "## Execute redun"
   ]
  },
  {
   "attachments": {},
   "cell_type": "markdown",
   "metadata": {},
   "source": [
    "Let's see what the input files are:"
   ]
  },
  {
   "cell_type": "code",
   "execution_count": null,
   "metadata": {},
   "outputs": [],
   "source": [
    "!ls ./fasta"
   ]
  },
  {
   "cell_type": "markdown",
   "metadata": {},
   "source": [
    "And call the workflow:"
   ]
  },
  {
   "cell_type": "code",
   "execution_count": null,
   "metadata": {},
   "outputs": [],
   "source": [
    "!redun run workflow.py main --input-dir ./fasta --tag run=test-run  1> redun_stdout.txt 2>redun_stderr.txt"
   ]
  },
  {
   "cell_type": "markdown",
   "metadata": {},
   "source": [
    "Inspect the output:"
   ]
  },
  {
   "cell_type": "code",
   "execution_count": null,
   "metadata": {},
   "outputs": [],
   "source": [
    "!cat redun_stdout.txt"
   ]
  },
  {
   "cell_type": "markdown",
   "metadata": {},
   "source": [
    "And the error log:"
   ]
  },
  {
   "cell_type": "code",
   "execution_count": null,
   "metadata": {},
   "outputs": [],
   "source": [
    "!tail -1 redun_stderr.txt"
   ]
  },
  {
   "cell_type": "markdown",
   "metadata": {},
   "source": [
    "Export run information to json and load it back to LaminDB:"
   ]
  },
  {
   "cell_type": "code",
   "execution_count": null,
   "metadata": {},
   "outputs": [],
   "source": [
    "!redun log --exec --exec-tag run=test-run --format json --no-pager > redun_exec.json"
   ]
  },
  {
   "cell_type": "code",
   "execution_count": null,
   "metadata": {},
   "outputs": [],
   "source": [
    "redun_exec = json.load(open(\"redun_exec.json\"))\n",
    "\n",
    "redun_exec"
   ]
  },
  {
   "cell_type": "markdown",
   "metadata": {},
   "source": [
    "## Track redun outputs and execution ID"
   ]
  },
  {
   "cell_type": "code",
   "execution_count": null,
   "metadata": {},
   "outputs": [],
   "source": [
    "run = ln.Run.filter().order_by(\"-run_at\").first()\n",
    "run.reference = redun_exec[\"id\"]\n",
    "run.reference_type = \"redun_id\"\n",
    "run.save()"
   ]
  },
  {
   "cell_type": "markdown",
   "metadata": {},
   "source": [
    "There is just a single output file to track, here:"
   ]
  },
  {
   "cell_type": "code",
   "execution_count": null,
   "metadata": {},
   "outputs": [],
   "source": [
    "file = ln.File(\n",
    "    data=\"data/results.tgz\", description=\"redun-lamin-fasta results\", run=run\n",
    ")\n",
    "file.save()\n",
    "file.view_lineage()"
   ]
  },
  {
   "cell_type": "markdown",
   "metadata": {},
   "source": [
    "## View the database content"
   ]
  },
  {
   "cell_type": "code",
   "execution_count": null,
   "metadata": {},
   "outputs": [],
   "source": [
    "ln.view()"
   ]
  },
  {
   "cell_type": "code",
   "execution_count": null,
   "metadata": {},
   "outputs": [],
   "source": [
    "!lamin delete redun-lamin-fasta"
   ]
  }
 ],
 "metadata": {
  "kernelspec": {
   "display_name": "py39",
   "language": "python",
   "name": "python3"
  },
  "language_info": {
   "codemirror_mode": {
    "name": "ipython",
    "version": 3
   },
   "file_extension": ".py",
   "mimetype": "text/x-python",
   "name": "python",
   "nbconvert_exporter": "python",
   "pygments_lexer": "ipython3",
   "version": "3.9.16"
  },
  "nbproject": {
   "id": "0ymQDuqM5Lwq",
   "parent": null,
   "pypackage": {
    "lamindb": "0.10.0"
   },
   "time_init": "2022-11-13T21:29:56.220368+00:00",
   "user_handle": "testuser1",
   "user_id": "DzTjkKse",
   "user_name": "Test User1",
   "version": "0"
  },
  "vscode": {
   "interpreter": {
    "hash": "61b4062b24dfb1010f420dad5aa3bd73a4d2af47d0ec44eafec465a35a9d7239"
   }
  }
 },
 "nbformat": 4,
 "nbformat_minor": 4
}
