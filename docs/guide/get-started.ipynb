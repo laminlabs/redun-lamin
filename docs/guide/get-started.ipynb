{
 "cells": [
  {
   "cell_type": "markdown",
   "metadata": {},
   "source": [
    "# Run the redun workflow"
   ]
  },
  {
   "cell_type": "code",
   "execution_count": 3,
   "metadata": {},
   "outputs": [
    {
     "name": "stdout",
     "output_type": "stream",
     "text": [
      "[redun] redun :: version 0.8.16\n",
      "[redun] config dir: /Users/falexwolf/repos/redun-lamin-fasta/docs/guide/.redun\n",
      "[redun] Upgrading db from version -1.0 to 3.1...\n",
      "[redun] Start Execution 145d6f90-9e57-49c0-8185-339b53f5c221:  redun run workflow.py main --input-dir fasta/\n",
      "[redun] Run    Job bba326f6:  redun_lamin_fasta.workflow.main(input_dir='fasta/', amino_acid='C', enzyme_regex='[KR]', missed_cleavages=0, min_length=4, max_length=75, executor=<Executor.default: 'default'>) on default\n",
      "[redun] Run    Job 4605c1ae:  bioinformatics_pipeline_tutorial.lib.digest_protein_task(input_fasta=File(path=fasta/SOX2.fasta, hash=fac346e3), enzyme_regex='[KR]', missed_cleavages=0, min_length=4, max_length=75) on default\n",
      "[redun] Run    Job 0c16f2ef:  bioinformatics_pipeline_tutorial.lib.digest_protein_task(input_fasta=File(path=fasta/KLF4.fasta, hash=88a9bee8), enzyme_regex='[KR]', missed_cleavages=0, min_length=4, max_length=75) on default\n",
      "[redun] Run    Job 98d07c34:  bioinformatics_pipeline_tutorial.lib.digest_protein_task(input_fasta=File(path=fasta/PO5F1.fasta, hash=3dd1ac12), enzyme_regex='[KR]', missed_cleavages=0, min_length=4, max_length=75) on default\n",
      "[redun] Run    Job 24d2e27b:  bioinformatics_pipeline_tutorial.lib.digest_protein_task(input_fasta=File(path=fasta/MYC.fasta, hash=69dc658d), enzyme_regex='[KR]', missed_cleavages=0, min_length=4, max_length=75) on default\n",
      "[redun] Run    Job 0a1e4da2:  bioinformatics_pipeline_tutorial.lib.count_amino_acids_task(input_fasta=File(path=fasta/SOX2.fasta, hash=fac346e3), input_peptides=File(path=data/SOX2.peptides.txt, hash=429af184), amino_acid='C') on default\n",
      "[redun] Run    Job 069c0f73:  bioinformatics_pipeline_tutorial.lib.count_amino_acids_task(input_fasta=File(path=fasta/KLF4.fasta, hash=88a9bee8), input_peptides=File(path=data/KLF4.peptides.txt, hash=2fb3a61d), amino_acid='C') on default\n",
      "[redun] Run    Job 8eae2434:  bioinformatics_pipeline_tutorial.lib.count_amino_acids_task(input_fasta=File(path=fasta/PO5F1.fasta, hash=3dd1ac12), input_peptides=File(path=data/PO5F1.peptides.txt, hash=36dcceb3), amino_acid='C') on default\n",
      "[redun] Run    Job 724a80fb:  bioinformatics_pipeline_tutorial.lib.count_amino_acids_task(input_fasta=File(path=fasta/MYC.fasta, hash=69dc658d), input_peptides=File(path=data/MYC.peptides.txt, hash=1e653e83), amino_acid='C') on default\n",
      "[redun] Run    Job f40c4d9e:  bioinformatics_pipeline_tutorial.lib.plot_count_task(input_count=File(path=data/SOX2.count.tsv, hash=223825f5)) on default\n",
      "[redun] Run    Job 4d830bde:  bioinformatics_pipeline_tutorial.lib.plot_count_task(input_count=File(path=data/KLF4.count.tsv, hash=f9333483)) on default\n",
      "[redun] Run    Job 875142f2:  bioinformatics_pipeline_tutorial.lib.plot_count_task(input_count=File(path=data/PO5F1.count.tsv, hash=a96c5a88)) on default\n",
      "[redun] Run    Job 3aadad54:  bioinformatics_pipeline_tutorial.lib.plot_count_task(input_count=File(path=data/MYC.count.tsv, hash=434c5816)) on default\n",
      "[redun] Run    Job 13466fc5:  bioinformatics_pipeline_tutorial.lib.get_report_task(input_counts=[File(path=data/SOX2.count.tsv, hash=223825f5), File(path=data/KLF4.count.tsv, hash=f9333483), File(path=data/PO5F1.count.tsv, hash=a96c5a88), File(path=data/MYC.count.tsv, hash=434c5816)]) on default\n",
      "[redun] Run    Job 6dcb435b:  bioinformatics_pipeline_tutorial.lib.archive_results_task(inputs_plots=[File(path=data/SOX2.plot.png, hash=6bfdf96f), File(path=data/KLF4.plot.png, hash=f810cf08), File(path=data/PO5F1.plot.png, hash=85b06ab1), File(path=data/MYC.plot.png, hash=c8f00ccd)], input_report=File(path=data/protein_report.tsv, hash=6a13c282)) on default\n",
      "[redun] \n",
      "[redun] | JOB STATUS 2022/11/13 21:39:49\n",
      "[redun] | TASK                                                        PENDING RUNNING  FAILED  CACHED    DONE   TOTAL\n",
      "[redun] | \n",
      "[redun] | ALL                                                               0       0       0       0      15      15\n",
      "[redun] | bioinformatics_pipeline_tutorial.lib.archive_results_task         0       0       0       0       1       1\n",
      "[redun] | bioinformatics_pipeline_tutorial.lib.count_amino_acids_task       0       0       0       0       4       4\n",
      "[redun] | bioinformatics_pipeline_tutorial.lib.digest_protein_task          0       0       0       0       4       4\n",
      "[redun] | bioinformatics_pipeline_tutorial.lib.get_report_task              0       0       0       0       1       1\n",
      "[redun] | bioinformatics_pipeline_tutorial.lib.plot_count_task              0       0       0       0       4       4\n",
      "[redun] | redun_lamin_fasta.workflow.main                                   0       0       0       0       1       1\n",
      "[redun] \n",
      "[redun] \n",
      "[redun] Execution duration: 1.28 seconds\n",
      "File(path=data/results.tgz, hash=9c29d0fc)\n"
     ]
    }
   ],
   "source": [
    "!redun run workflow.py main --input-dir fasta/"
   ]
  }
 ],
 "metadata": {
  "kernelspec": {
   "display_name": "Python 3.9.12 ('base1')",
   "language": "python",
   "name": "python3"
  },
  "language_info": {
   "codemirror_mode": {
    "name": "ipython",
    "version": 3
   },
   "file_extension": ".py",
   "mimetype": "text/x-python",
   "name": "python",
   "nbconvert_exporter": "python",
   "pygments_lexer": "ipython3",
   "version": "3.9.12"
  },
  "orig_nbformat": 4,
  "vscode": {
   "interpreter": {
    "hash": "2775e555cdc2d728c54aa22130c79afb1fa4da64f22f2fc6dcc2aa346c4e0672"
   }
  }
 },
 "nbformat": 4,
 "nbformat_minor": 2
}
